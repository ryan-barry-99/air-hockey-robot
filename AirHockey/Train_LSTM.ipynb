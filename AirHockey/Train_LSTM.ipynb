{
 "cells": [
  {
   "cell_type": "code",
   "execution_count": 10,
   "metadata": {},
   "outputs": [],
   "source": [
    "import numpy as np\n",
    "import pandas as pd\n",
    "\n",
    "from sklearn.model_selection import train_test_split\n",
    "from sklearn.preprocessing import MinMaxScaler\n",
    "\n",
    "\n",
    "import torch\n",
    "import torch.nn as nn\n",
    "from torch.utils.data import Dataset, DataLoader\n",
    "import torch.optim as optim\n",
    "\n",
    "\n",
    "import matplotlib.pyplot as plt"
   ]
  },
  {
   "cell_type": "markdown",
   "metadata": {},
   "source": [
    "Hyperparameters"
   ]
  },
  {
   "cell_type": "code",
   "execution_count": 2,
   "metadata": {},
   "outputs": [],
   "source": [
    "input_size = 3  # Number of input features\n",
    "hidden_size = 50 #50  # Number of LSTM units\n",
    "output_size = 1  # Number of output features\n",
    "num_layers = 2  # Number of LSTM layers\n",
    "\n",
    "num_epochs = 400\n",
    "learning_rate = 0.001\n",
    "sequence_length = 10\n",
    "batch_size = 32\n",
    "dropout= 0.3 #0.3\n",
    "weight_decay = 1e-5 #1e-5 # Adjust this value\n",
    "\n",
    "#dataset control\n",
    "left_only=False\n",
    "no_negative = False\n",
    "max_length_on = True\n",
    "max_length = 20"
   ]
  },
  {
   "cell_type": "markdown",
   "metadata": {},
   "source": [
    "Dataset"
   ]
  },
  {
   "cell_type": "code",
   "execution_count": 3,
   "metadata": {},
   "outputs": [],
   "source": [
    "def create_sequences(x, y, seq_length):\n",
    "    x = torch.tensor(x, dtype=torch.float32)\n",
    "    y = torch.tensor(y, dtype=torch.float32)\n",
    "    x = torch.mul(x,1)\n",
    "    y = torch.mul(y,1)\n",
    "    sequences = []\n",
    "    labels = []\n",
    "\n",
    "    for i in range(len(x) - seq_length):\n",
    "        if left_only and x[i+seq_length][2] != -1: # if direction != left\n",
    "            continue\n",
    "        if no_negative and x[i+seq_length][0] < 0: # if past goal\n",
    "            continue\n",
    "        if max_length_on and x[i+seq_length][-1] >= max_length: # 30 frames from crossing goal\n",
    "            continue\n",
    "\n",
    "        seq = x[i:i+seq_length]\n",
    "        seq = seq[:,[0,1,3]] # Puck_cen_X, Puck_cen_Y\n",
    "        label = y[i+seq_length]\n",
    "        sequences.append(seq)\n",
    "        labels.append(label)\n",
    "\n",
    "    return torch.stack(sequences), torch.stack(labels)\n"
   ]
  },
  {
   "cell_type": "markdown",
   "metadata": {},
   "source": [
    "Data Loader"
   ]
  },
  {
   "cell_type": "code",
   "execution_count": 4,
   "metadata": {},
   "outputs": [],
   "source": [
    "class CustomDataset(Dataset):\n",
    "    def __init__(self, sequences, labels):\n",
    "        self.sequences = sequences\n",
    "        self.labels = labels\n",
    "\n",
    "    def __len__(self):\n",
    "        return len(self.sequences)\n",
    "\n",
    "    def __getitem__(self, idx):\n",
    "        return self.sequences[idx], self.labels[idx]"
   ]
  },
  {
   "cell_type": "code",
   "execution_count": 5,
   "metadata": {},
   "outputs": [],
   "source": [
    "#df = pd.read_csv(\"Data/cleaned_data.csv\")\n",
    "#df = pd.read_csv(\"Data/Combined_numerated.csv\")\n",
    "df = pd.read_csv(\"Data/Final.csv\")\n",
    "\n",
    "X = df[[\"Puck_cen_X\",\"Puck_cen_Y\",\"direction\",\"dt\",\"Count\"]].values # values between 2 and -1\n",
    "Y = df[[\"Cross_Left\"]].values\n",
    "#Y = df[\"Cross_right\"].values\n",
    "\n",
    "# Split the data into training and testing sets\n",
    "#X_train, X_test, y_train, y_test = train_test_split(X, Y, test_size=0.4, shuffle=False)\n",
    "X_test, X_train, y_test, y_train = train_test_split(X, Y, test_size=0.7, shuffle=False)\n",
    "X_val, X_test, y_val, y_test = train_test_split(X_test, y_test, test_size=0.96, shuffle=False)\n",
    "\n",
    "train_sequences, train_labels = create_sequences(X_train, y_train, sequence_length)\n",
    "val_sequences, val_labels = create_sequences(X_val, y_val, sequence_length)\n",
    "test_sequences, test_labels = create_sequences(X_test, y_test, sequence_length)"
   ]
  },
  {
   "cell_type": "code",
   "execution_count": 6,
   "metadata": {},
   "outputs": [],
   "source": [
    "train_dataset = CustomDataset(train_sequences, train_labels)\n",
    "val_dataset = CustomDataset(val_sequences, val_labels)\n",
    "test_dataset = CustomDataset(test_sequences, test_labels)\n",
    "\n",
    "train_loader = DataLoader(train_dataset, batch_size=batch_size, shuffle=True)\n",
    "val_loader = DataLoader(val_dataset, batch_size=batch_size, shuffle=False)\n",
    "test_loader = DataLoader(test_dataset, batch_size=batch_size, shuffle=False)"
   ]
  },
  {
   "cell_type": "code",
   "execution_count": 7,
   "metadata": {},
   "outputs": [
    {
     "name": "stdout",
     "output_type": "stream",
     "text": [
      "train: torch.Size([8393, 10, 3])\n",
      "val torch.Size([108, 10, 3])\n",
      "test torch.Size([2664, 10, 3])\n"
     ]
    }
   ],
   "source": [
    "print(\"train:\",train_sequences.shape)\n",
    "print(\"val\",val_sequences.shape)\n",
    "print(\"test\",test_sequences.shape)"
   ]
  },
  {
   "cell_type": "code",
   "execution_count": 8,
   "metadata": {},
   "outputs": [],
   "source": [
    "del X, Y, X_train, X_test, X_val, y_train, y_test, y_val # deleate\n",
    "del train_sequences, val_sequences"
   ]
  },
  {
   "cell_type": "markdown",
   "metadata": {},
   "source": [
    "Physics Model"
   ]
  },
  {
   "cell_type": "code",
   "execution_count": 33,
   "metadata": {},
   "outputs": [
    {
     "ename": "AttributeError",
     "evalue": "'_IncompatibleKeys' object has no attribute 'to'",
     "output_type": "error",
     "traceback": [
      "\u001b[1;31m---------------------------------------------------------------------------\u001b[0m",
      "\u001b[1;31mAttributeError\u001b[0m                            Traceback (most recent call last)",
      "\u001b[1;32mc:\\Users\\ryanb\\OneDrive\\Desktop\\RIT\\Robot_Perception\\Final_Project\\air-hockey-robot\\AirHockey\\Train_LSTM.ipynb Cell 13\u001b[0m line \u001b[0;36m3\n\u001b[0;32m      <a href='vscode-notebook-cell:/c%3A/Users/ryanb/OneDrive/Desktop/RIT/Robot_Perception/Final_Project/air-hockey-robot/AirHockey/Train_LSTM.ipynb#X50sZmlsZQ%3D%3D?line=0'>1</a>\u001b[0m \u001b[39mfrom\u001b[39;00m \u001b[39mLSTM_Prediction\u001b[39;00m \u001b[39mimport\u001b[39;00m LSTM_Prediction\n\u001b[0;32m      <a href='vscode-notebook-cell:/c%3A/Users/ryanb/OneDrive/Desktop/RIT/Robot_Perception/Final_Project/air-hockey-robot/AirHockey/Train_LSTM.ipynb#X50sZmlsZQ%3D%3D?line=1'>2</a>\u001b[0m \u001b[39mfrom\u001b[39;00m \u001b[39mPhysics_Prediction\u001b[39;00m \u001b[39mimport\u001b[39;00m physics_prediction\n\u001b[1;32m----> <a href='vscode-notebook-cell:/c%3A/Users/ryanb/OneDrive/Desktop/RIT/Robot_Perception/Final_Project/air-hockey-robot/AirHockey/Train_LSTM.ipynb#X50sZmlsZQ%3D%3D?line=2'>3</a>\u001b[0m LSTM \u001b[39m=\u001b[39m LSTM_Prediction(path\u001b[39m=\u001b[39;49m \u001b[39m\"\u001b[39;49m\u001b[39mLSTM_HS80_L2_dt.pt\u001b[39;49m\u001b[39m\"\u001b[39;49m,dt \u001b[39m=\u001b[39;49m \u001b[39mTrue\u001b[39;49;00m)\n\u001b[0;32m      <a href='vscode-notebook-cell:/c%3A/Users/ryanb/OneDrive/Desktop/RIT/Robot_Perception/Final_Project/air-hockey-robot/AirHockey/Train_LSTM.ipynb#X50sZmlsZQ%3D%3D?line=3'>4</a>\u001b[0m Phys \u001b[39m=\u001b[39m Physics_Prediction(dt \u001b[39m=\u001b[39m \u001b[39mTrue\u001b[39;00m)\n",
      "File \u001b[1;32mc:\\Users\\ryanb\\OneDrive\\Desktop\\RIT\\Robot_Perception\\Final_Project\\air-hockey-robot\\AirHockey\\LSTM_Prediction.py:48\u001b[0m, in \u001b[0;36mLSTM_Prediction.__init__\u001b[1;34m(self, path, dt)\u001b[0m\n\u001b[0;32m     46\u001b[0m     \u001b[39mself\u001b[39m\u001b[39m.\u001b[39mdevice \u001b[39m=\u001b[39m torch\u001b[39m.\u001b[39mdevice(\u001b[39m\"\u001b[39m\u001b[39mcuda\u001b[39m\u001b[39m\"\u001b[39m \u001b[39mif\u001b[39;00m torch\u001b[39m.\u001b[39mcuda\u001b[39m.\u001b[39mis_available() \u001b[39melse\u001b[39;00m \u001b[39m\"\u001b[39m\u001b[39mcpu\u001b[39m\u001b[39m\"\u001b[39m)\n\u001b[0;32m     47\u001b[0m     \u001b[39mself\u001b[39m\u001b[39m.\u001b[39mmodel \u001b[39m=\u001b[39m \u001b[39mself\u001b[39m\u001b[39m.\u001b[39mmodel\u001b[39m.\u001b[39mload_state_dict(torch\u001b[39m.\u001b[39mload(\u001b[39mself\u001b[39m\u001b[39m.\u001b[39mpath))\n\u001b[1;32m---> 48\u001b[0m     \u001b[39mself\u001b[39;49m\u001b[39m.\u001b[39;49mmodel\u001b[39m.\u001b[39;49mto(\u001b[39mself\u001b[39m\u001b[39m.\u001b[39mdevice)\n\u001b[0;32m     49\u001b[0m     \u001b[39mself\u001b[39m\u001b[39m.\u001b[39msequence \u001b[39m=\u001b[39m torch\u001b[39m.\u001b[39mzeros(\u001b[39mself\u001b[39m\u001b[39m.\u001b[39msequence_length, \u001b[39m3\u001b[39m)\n\u001b[0;32m     51\u001b[0m \u001b[39mself\u001b[39m\u001b[39m.\u001b[39mmodel\u001b[39m.\u001b[39meval()\n",
      "\u001b[1;31mAttributeError\u001b[0m: '_IncompatibleKeys' object has no attribute 'to'"
     ]
    }
   ],
   "source": [
    "from LSTM_Prediction import LSTM_Prediction\n",
    "from Physics_Prediction import physics_prediction\n",
    "LSTM = LSTM_Prediction(path= \"LSTM_HS80_L2_dt.pt\",dt = True)\n",
    "Phys = Physics_Prediction(dt = True)"
   ]
  },
  {
   "cell_type": "code",
   "execution_count": null,
   "metadata": {},
   "outputs": [],
   "source": [
    "sequence = test_sequences[0]\n",
    "phys_pred = \n"
   ]
  }
 ],
 "metadata": {
  "kernelspec": {
   "display_name": "RL_Project",
   "language": "python",
   "name": "python3"
  },
  "language_info": {
   "codemirror_mode": {
    "name": "ipython",
    "version": 3
   },
   "file_extension": ".py",
   "mimetype": "text/x-python",
   "name": "python",
   "nbconvert_exporter": "python",
   "pygments_lexer": "ipython3",
   "version": "3.10.11"
  }
 },
 "nbformat": 4,
 "nbformat_minor": 2
}
