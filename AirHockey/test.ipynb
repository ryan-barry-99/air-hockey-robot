{
 "cells": [
  {
   "cell_type": "code",
   "execution_count": 24,
   "metadata": {},
   "outputs": [],
   "source": [
    "import json\n",
    "from math import pi\n",
    "from ArmRobot import ArmRobot\n",
    "ltbl = json.load(open(\"lookup_table.json\", \"r\"))"
   ]
  },
  {
   "cell_type": "code",
   "execution_count": 25,
   "metadata": {},
   "outputs": [],
   "source": [
    "def find_closest_value(dictionary):\n",
    "    true_values = []\n",
    "    for key, value in dictionary.items():\n",
    "        if value[3] == True:\n",
    "            true_values.append(value)\n",
    "    \n",
    "    closest_value = min(true_values, key=lambda x: abs(x[0]))\n",
    "    return closest_value"
   ]
  },
  {
   "cell_type": "code",
   "execution_count": 32,
   "metadata": {},
   "outputs": [
    {
     "name": "stdout",
     "output_type": "stream",
     "text": [
      "0\n",
      "y:  0 \ttheta:  0\n",
      "joint angles [5.223481487379586, 2.0818888337, 5.2610002932795865, True]\n",
      "closest joint angles with fourth element True: [-1.0597038198000002, 2.0818888337, -1.0221850138999997, True]\n",
      "closest joint angles with fourth element True: -60.716556408431934 119.2834435864233 -58.566887177991376\n",
      "x:  13 \ty:  0 \tangle:  0\n"
     ]
    }
   ],
   "source": [
    "arm = ArmRobot()\n",
    "theta = 0\n",
    "y = 0.5\n",
    "y = int((42*y - 21)*2.54/100)\n",
    "print(y)\n",
    "if y < -13:\n",
    "    y = -13\n",
    "elif y > 13:\n",
    "    y = 13\n",
    "theta = int((theta // 5) * 5)\n",
    "print(\"y: \", y, \"\\ttheta: \", theta)\n",
    "joint_angles = ltbl[f\"({y}, {theta})\"]\n",
    "\n",
    "# joint_angles = robot.arm.lookup_table[f\"({y}, {theta})\"]\n",
    "print(\"joint angles\", joint_angles)\n",
    "\n",
    "if not joint_angles[3]:\n",
    "    joint_angles = find_closest_value(ltbl)\n",
    "for i, angle in enumerate(joint_angles):\n",
    "    if angle > pi:\n",
    "        joint_angles[i] -= 2*pi\n",
    "print(\"closest joint angles with fourth element True:\", joint_angles)\n",
    "print(\"closest joint angles with fourth element True:\", joint_angles[0]*180/pi, joint_angles[1]*180/pi, joint_angles[2]*180/pi)\n",
    "\n",
    "arm.link1.moveJoint(joint_angles[0])\n",
    "arm.link2.moveJoint(joint_angles[1])\n",
    "arm.link3.moveJoint(joint_angles[2])\n",
    "\n",
    "x, y, z, roll, pitch, yaw = arm.forward_kinematics()\n",
    "\n",
    "print(\"x: \", int(x*100/2.54), \"\\ty: \", int(y*100/2.54), \"\\tangle: \", int(yaw*180/pi))"
   ]
  }
 ],
 "metadata": {
  "kernelspec": {
   "display_name": ".venv",
   "language": "python",
   "name": "python3"
  },
  "language_info": {
   "codemirror_mode": {
    "name": "ipython",
    "version": 3
   },
   "file_extension": ".py",
   "mimetype": "text/x-python",
   "name": "python",
   "nbconvert_exporter": "python",
   "pygments_lexer": "ipython3",
   "version": "3.10.11"
  }
 },
 "nbformat": 4,
 "nbformat_minor": 2
}
