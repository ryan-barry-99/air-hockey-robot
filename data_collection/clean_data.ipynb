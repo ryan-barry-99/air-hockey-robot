{
 "cells": [
  {
   "cell_type": "code",
   "execution_count": 1,
   "metadata": {},
   "outputs": [],
   "source": [
    "import pandas as pd\n",
    "import numpy as np"
   ]
  },
  {
   "cell_type": "code",
   "execution_count": 2,
   "metadata": {},
   "outputs": [
    {
     "name": "stdout",
     "output_type": "stream",
     "text": [
      "<bound method NDFrame.head of                File Name     Time  Puck_XL  Puck_YL  Puck_XH  Puck_YH  \\\n",
      "0      image_0000245.jpg  47:11.6   363.99   215.14   379.56   240.30   \n",
      "1      image_0000246.jpg  47:11.6   362.52   211.36   378.83   237.93   \n",
      "2      image_0000247.jpg  47:11.6   362.01   210.00   378.07   236.72   \n",
      "3      image_0000248.jpg  47:11.7   361.32   208.75   376.40   235.83   \n",
      "4      image_0000249.jpg  47:11.7   359.97   208.73   375.24   235.74   \n",
      "...                  ...      ...      ...      ...      ...      ...   \n",
      "16141  image_0026621.jpg  24:45.2   192.17   295.69   208.13   324.05   \n",
      "16142  image_0026622.jpg  24:45.3   196.24   262.95   212.74   289.41   \n",
      "16143  image_0026623.jpg  24:45.3   202.34   227.65   218.52   255.09   \n",
      "16144  image_0026624.jpg  24:45.4   203.92   209.74   222.52   237.40   \n",
      "16145  image_0026625.jpg  31:35.7   210.80   172.93   227.70   202.34   \n",
      "\n",
      "       Table_XL  Table_YL  Table_XH  Table_YH  Puck_cen_X  Puck_cen_Y  \\\n",
      "0        82.216    15.622    315.80    394.96    1.239635    0.559127   \n",
      "1        82.220    15.599    315.72    394.93    1.235353    0.551091   \n",
      "2        82.222    15.586    315.77    394.96    1.232372    0.547676   \n",
      "3        82.214    15.612    315.74    394.97    1.227469    0.544810   \n",
      "4        82.228    15.596    315.73    394.95    1.222161    0.544713   \n",
      "...         ...       ...       ...       ...         ...         ...   \n",
      "16141   129.560    23.615    360.21    421.68    0.306048    0.719116   \n",
      "16142   129.620    23.655    360.43    421.42    0.324379    0.634860   \n",
      "16143   129.830    23.504    360.38    421.31    0.349599    0.547669   \n",
      "16144   129.890    23.373    360.32    421.62    0.361628    0.502696   \n",
      "16145   129.800    23.475    359.61    420.29    0.389235    0.413694   \n",
      "\n",
      "       Cross_Left  Cross_right  direction  \n",
      "0        0.107345     0.482719         -1  \n",
      "1        0.107345     0.482719         -1  \n",
      "2        0.107345     0.482719         -1  \n",
      "3        0.107345     0.482719         -1  \n",
      "4        0.107345     0.482719         -1  \n",
      "...           ...          ...        ...  \n",
      "16141         NaN          NaN          1  \n",
      "16142         NaN          NaN          1  \n",
      "16143         NaN          NaN          1  \n",
      "16144         NaN          NaN          1  \n",
      "16145         NaN          NaN         -1  \n",
      "\n",
      "[16146 rows x 15 columns]>\n",
      "0.559126689\n"
     ]
    }
   ],
   "source": [
    "df = pd.read_csv(\"cleaned_data.csv\")\n",
    "print(df.head)\n",
    "print(df['Puck_cen_Y'][0])"
   ]
  },
  {
   "cell_type": "markdown",
   "metadata": {},
   "source": [
    "Create cross left / cross rigjt"
   ]
  },
  {
   "cell_type": "code",
   "execution_count": null,
   "metadata": {},
   "outputs": [],
   "source": [
    "prev_left=0\n",
    "prev_right=0\n",
    "for i in range(df.shape[0]-1):\n",
    "   #direction\n",
    "   if df['Puck_cen_X'][i] < df['Puck_cen_X'][i+1]:\n",
    "      df['direction'][i] = 1\n",
    "   elif df['Puck_cen_X'][i] > df['Puck_cen_X'][i+1]:\n",
    "      df['direction'][i] = -1\n",
    "\n",
    "   # future bounce\n",
    "   if df['Puck_cen_X'][i] == 0:\n",
    "      for j in range(prev_left, (i+1)):\n",
    "         df['Cross_Left'][j] = df['Puck_cen_Y'][i]\n",
    "      prev_left = i\n",
    "\n",
    "   elif df['Puck_cen_X'][i] > 0 and df['Puck_cen_X'][i+1] < 0:\n",
    "      for j in range(prev_left+1, (i+1)):\n",
    "         weighted_avg = df['Puck_cen_X'][i] / (df['Puck_cen_X'][i] - df['Puck_cen_X'][i+1]) # i+1 is negative\n",
    "         if(weighted_avg >1):\n",
    "            print('error!')\n",
    "         cross =(1-weighted_avg) * df['Puck_cen_Y'][i] + weighted_avg * df['Puck_cen_Y'][i+1]\n",
    "         df['Cross_Left'][j] = cross\n",
    "      prev_left = i\n",
    " \n",
    "   elif df['Puck_cen_X'][i] == 1:\n",
    "      for j in range(prev_right, (i+1)):\n",
    "         df['Cross_right'][j] = df['Puck_cen_Y'][i]\n",
    "      prev_right = i\n",
    "\n",
    "   elif df['Puck_cen_X'][i] < 1 and df['Puck_cen_X'][i+1] > 1:\n",
    "      for j in range(prev_right+1, (i+1)):\n",
    "         weighted_avg = (1-df['Puck_cen_X'][i]) / (df['Puck_cen_X'][i+1] - df['Puck_cen_X'][i]) # where is 1 with respect to i and i+1\n",
    "         cross = (1-weighted_avg) * df['Puck_cen_Y'][i] + weighted_avg * df['Puck_cen_Y'][i+1]\n",
    "         df['Cross_right'][j] = cross\n",
    "      prev_right = i\n",
    "\n",
    "df.to_csv(path_or_buf='cleaned_data.csv',index=False)\n",
    "print(df.head)"
   ]
  },
  {
   "cell_type": "markdown",
   "metadata": {},
   "source": [
    "Count Crosses"
   ]
  },
  {
   "cell_type": "code",
   "execution_count": 10,
   "metadata": {},
   "outputs": [
    {
     "name": "stdout",
     "output_type": "stream",
     "text": [
      "310 338 648\n"
     ]
    }
   ],
   "source": [
    "count_L = 0\n",
    "count_R = 0\n",
    "for i in range(df.shape[0]-1):\n",
    "    if df['Puck_cen_X'][i] > 0 and df['Puck_cen_X'][i+1] < 0:\n",
    "        count_L+=1\n",
    "\n",
    "    elif df['Puck_cen_X'][i] < 1 and df['Puck_cen_X'][i+1] > 1:\n",
    "        count_R +=1\n",
    "print(count_L, count_R, count_L+count_R)"
   ]
  },
  {
   "cell_type": "markdown",
   "metadata": {},
   "source": [
    "Make all Left"
   ]
  }
 ],
 "metadata": {
  "kernelspec": {
   "display_name": "RL_Project",
   "language": "python",
   "name": "python3"
  },
  "language_info": {
   "codemirror_mode": {
    "name": "ipython",
    "version": 3
   },
   "file_extension": ".py",
   "mimetype": "text/x-python",
   "name": "python",
   "nbconvert_exporter": "python",
   "pygments_lexer": "ipython3",
   "version": "3.10.9"
  }
 },
 "nbformat": 4,
 "nbformat_minor": 2
}
